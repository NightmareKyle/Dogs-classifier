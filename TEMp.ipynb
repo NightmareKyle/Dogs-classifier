{
 "cells": [
  {
   "cell_type": "code",
   "execution_count": 5,
   "metadata": {},
   "outputs": [],
   "source": [
    "import cv2\n",
    "import matplotlib.pyplot as plt\n",
    "from IPython.display import Image"
   ]
  },
  {
   "cell_type": "code",
   "execution_count": 2,
   "metadata": {},
   "outputs": [],
   "source": [
    "import pandas as pd\n",
    "import numpy as np"
   ]
  },
  {
   "cell_type": "code",
   "execution_count": null,
   "metadata": {},
   "outputs": [],
   "source": [
    "windows = 'img'\n",
    "img = cv2.imread(\"dog-breed-identification/test/0a5f4f224f4660a3453a7fa327bec893.jpg\")\n",
    "cv2.imshow('Img',img)\n",
    "cv2.waitKey(0)"
   ]
  },
  {
   "cell_type": "code",
   "execution_count": null,
   "metadata": {},
   "outputs": [
    {
     "data": {
      "text/plain": [
       "array([[[226, 206, 195],\n",
       "        [209, 187, 176],\n",
       "        [255, 251, 241],\n",
       "        ...,\n",
       "        [154, 200, 207],\n",
       "        [171, 217, 224],\n",
       "        [192, 238, 245]],\n",
       "\n",
       "       [[164, 148, 136],\n",
       "        [204, 186, 175],\n",
       "        [168, 146, 135],\n",
       "        ...,\n",
       "        [145, 192, 196],\n",
       "        [129, 176, 180],\n",
       "        [155, 202, 206]],\n",
       "\n",
       "       [[227, 218, 205],\n",
       "        [201, 189, 177],\n",
       "        [133, 117, 105],\n",
       "        ...,\n",
       "        [ 96, 143, 141],\n",
       "        [103, 150, 148],\n",
       "        [107, 154, 152]],\n",
       "\n",
       "       ...,\n",
       "\n",
       "       [[ 93,  71,  65],\n",
       "        [ 73,  54,  47],\n",
       "        [ 67,  48,  43],\n",
       "        ...,\n",
       "        [ 53,  64,  62],\n",
       "        [ 81,  89,  88],\n",
       "        [101, 112, 110]],\n",
       "\n",
       "       [[144, 126, 119],\n",
       "        [170, 154, 147],\n",
       "        [128, 113, 110],\n",
       "        ...,\n",
       "        [169, 183, 179],\n",
       "        [124, 138, 134],\n",
       "        [ 33,  47,  43]],\n",
       "\n",
       "       [[ 92,  77,  68],\n",
       "        [121, 108, 100],\n",
       "        [126, 117, 113],\n",
       "        ...,\n",
       "        [102, 117, 113],\n",
       "        [ 33,  48,  44],\n",
       "        [ 21,  36,  32]]], dtype=uint8)"
      ]
     },
     "execution_count": 20,
     "metadata": {},
     "output_type": "execute_result"
    }
   ],
   "source": [
    "img"
   ]
  }
 ],
 "metadata": {
  "kernelspec": {
   "display_name": "Python 3.11.0 64-bit",
   "language": "python",
   "name": "python3"
  },
  "language_info": {
   "codemirror_mode": {
    "name": "ipython",
    "version": 3
   },
   "file_extension": ".py",
   "mimetype": "text/x-python",
   "name": "python",
   "nbconvert_exporter": "python",
   "pygments_lexer": "ipython3",
   "version": "3.11.0"
  },
  "orig_nbformat": 4,
  "vscode": {
   "interpreter": {
    "hash": "379523d68ddbea1caa2d84d2e0b45a67bae01a8b95f4b6debf29773e00031407"
   }
  }
 },
 "nbformat": 4,
 "nbformat_minor": 2
}
